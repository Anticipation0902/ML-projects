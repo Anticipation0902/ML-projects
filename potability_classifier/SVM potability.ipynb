{
 "cells": [
  {
   "cell_type": "markdown",
   "id": "e0bfee5c",
   "metadata": {},
   "source": [
    "### Load Data"
   ]
  },
  {
   "cell_type": "code",
   "execution_count": 2,
   "id": "e844ec9e",
   "metadata": {},
   "outputs": [],
   "source": [
    "from pyspark.sql import SparkSession\n",
    "spark = SparkSession.builder.appName(\"potability\").getOrCreate()"
   ]
  },
  {
   "cell_type": "code",
   "execution_count": 3,
   "id": "7ce5e025",
   "metadata": {},
   "outputs": [],
   "source": [
    "df_water = spark.read.csv(\"water_potability.csv\",header = 'True', inferSchema = 'True')"
   ]
  },
  {
   "cell_type": "code",
   "execution_count": 4,
   "id": "effb3db1",
   "metadata": {},
   "outputs": [
    {
     "data": {
      "text/plain": [
       "pyspark.sql.dataframe.DataFrame"
      ]
     },
     "execution_count": 4,
     "metadata": {},
     "output_type": "execute_result"
    }
   ],
   "source": [
    "type(df_water)"
   ]
  },
  {
   "cell_type": "code",
   "execution_count": 5,
   "id": "f0fd5a4c",
   "metadata": {},
   "outputs": [
    {
     "name": "stdout",
     "output_type": "stream",
     "text": [
      "root\n",
      " |-- ph: double (nullable = true)\n",
      " |-- Hardness: double (nullable = true)\n",
      " |-- Solids: double (nullable = true)\n",
      " |-- Chloramines: double (nullable = true)\n",
      " |-- Sulfate: double (nullable = true)\n",
      " |-- Conductivity: double (nullable = true)\n",
      " |-- Organic_carbon: double (nullable = true)\n",
      " |-- Trihalomethanes: double (nullable = true)\n",
      " |-- Turbidity: double (nullable = true)\n",
      " |-- Potability: integer (nullable = true)\n",
      "\n"
     ]
    }
   ],
   "source": [
    "df_water.printSchema()"
   ]
  },
  {
   "cell_type": "code",
   "execution_count": 6,
   "id": "f278c148",
   "metadata": {},
   "outputs": [
    {
     "name": "stdout",
     "output_type": "stream",
     "text": [
      "+-----------------+-----------------+----------+\n",
      "|               ph|     Conductivity|Potability|\n",
      "+-----------------+-----------------+----------+\n",
      "|             null|564.3086541722439|         0|\n",
      "| 3.71608007538699|592.8853591348523|         0|\n",
      "|8.099124189298397|418.6062130644815|         0|\n",
      "+-----------------+-----------------+----------+\n",
      "only showing top 3 rows\n",
      "\n"
     ]
    }
   ],
   "source": [
    "df_water.select(['ph', 'Conductivity', 'Potability']).show(3)"
   ]
  },
  {
   "cell_type": "code",
   "execution_count": 7,
   "id": "828368bb",
   "metadata": {},
   "outputs": [
    {
     "data": {
      "text/html": [
       "<div>\n",
       "<style scoped>\n",
       "    .dataframe tbody tr th:only-of-type {\n",
       "        vertical-align: middle;\n",
       "    }\n",
       "\n",
       "    .dataframe tbody tr th {\n",
       "        vertical-align: top;\n",
       "    }\n",
       "\n",
       "    .dataframe thead th {\n",
       "        text-align: right;\n",
       "    }\n",
       "</style>\n",
       "<table border=\"1\" class=\"dataframe\">\n",
       "  <thead>\n",
       "    <tr style=\"text-align: right;\">\n",
       "      <th></th>\n",
       "      <th>ph</th>\n",
       "      <th>Hardness</th>\n",
       "      <th>Solids</th>\n",
       "      <th>Chloramines</th>\n",
       "      <th>Sulfate</th>\n",
       "      <th>Conductivity</th>\n",
       "      <th>Organic_carbon</th>\n",
       "      <th>Trihalomethanes</th>\n",
       "      <th>Turbidity</th>\n",
       "      <th>Potability</th>\n",
       "    </tr>\n",
       "  </thead>\n",
       "  <tbody>\n",
       "    <tr>\n",
       "      <th>0</th>\n",
       "      <td>NaN</td>\n",
       "      <td>204.890455</td>\n",
       "      <td>20791.318981</td>\n",
       "      <td>7.300212</td>\n",
       "      <td>368.516441</td>\n",
       "      <td>564.308654</td>\n",
       "      <td>10.379783</td>\n",
       "      <td>86.990970</td>\n",
       "      <td>2.963135</td>\n",
       "      <td>0</td>\n",
       "    </tr>\n",
       "    <tr>\n",
       "      <th>1</th>\n",
       "      <td>3.716080</td>\n",
       "      <td>129.422921</td>\n",
       "      <td>18630.057858</td>\n",
       "      <td>6.635246</td>\n",
       "      <td>NaN</td>\n",
       "      <td>592.885359</td>\n",
       "      <td>15.180013</td>\n",
       "      <td>56.329076</td>\n",
       "      <td>4.500656</td>\n",
       "      <td>0</td>\n",
       "    </tr>\n",
       "    <tr>\n",
       "      <th>2</th>\n",
       "      <td>8.099124</td>\n",
       "      <td>224.236259</td>\n",
       "      <td>19909.541732</td>\n",
       "      <td>9.275884</td>\n",
       "      <td>NaN</td>\n",
       "      <td>418.606213</td>\n",
       "      <td>16.868637</td>\n",
       "      <td>66.420093</td>\n",
       "      <td>3.055934</td>\n",
       "      <td>0</td>\n",
       "    </tr>\n",
       "    <tr>\n",
       "      <th>3</th>\n",
       "      <td>8.316766</td>\n",
       "      <td>214.373394</td>\n",
       "      <td>22018.417441</td>\n",
       "      <td>8.059332</td>\n",
       "      <td>356.886136</td>\n",
       "      <td>363.266516</td>\n",
       "      <td>18.436524</td>\n",
       "      <td>100.341674</td>\n",
       "      <td>4.628771</td>\n",
       "      <td>0</td>\n",
       "    </tr>\n",
       "    <tr>\n",
       "      <th>4</th>\n",
       "      <td>9.092223</td>\n",
       "      <td>181.101509</td>\n",
       "      <td>17978.986339</td>\n",
       "      <td>6.546600</td>\n",
       "      <td>310.135738</td>\n",
       "      <td>398.410813</td>\n",
       "      <td>11.558279</td>\n",
       "      <td>31.997993</td>\n",
       "      <td>4.075075</td>\n",
       "      <td>0</td>\n",
       "    </tr>\n",
       "  </tbody>\n",
       "</table>\n",
       "</div>"
      ],
      "text/plain": [
       "         ph    Hardness        Solids  Chloramines     Sulfate  Conductivity  \\\n",
       "0       NaN  204.890455  20791.318981     7.300212  368.516441    564.308654   \n",
       "1  3.716080  129.422921  18630.057858     6.635246         NaN    592.885359   \n",
       "2  8.099124  224.236259  19909.541732     9.275884         NaN    418.606213   \n",
       "3  8.316766  214.373394  22018.417441     8.059332  356.886136    363.266516   \n",
       "4  9.092223  181.101509  17978.986339     6.546600  310.135738    398.410813   \n",
       "\n",
       "   Organic_carbon  Trihalomethanes  Turbidity  Potability  \n",
       "0       10.379783        86.990970   2.963135           0  \n",
       "1       15.180013        56.329076   4.500656           0  \n",
       "2       16.868637        66.420093   3.055934           0  \n",
       "3       18.436524       100.341674   4.628771           0  \n",
       "4       11.558279        31.997993   4.075075           0  "
      ]
     },
     "execution_count": 7,
     "metadata": {},
     "output_type": "execute_result"
    }
   ],
   "source": [
    "pd_water = df_water.toPandas()\n",
    "pd_water.head(5)"
   ]
  },
  {
   "cell_type": "code",
   "execution_count": 8,
   "id": "62c5de32",
   "metadata": {},
   "outputs": [
    {
     "data": {
      "text/plain": [
       "pandas.core.frame.DataFrame"
      ]
     },
     "execution_count": 8,
     "metadata": {},
     "output_type": "execute_result"
    }
   ],
   "source": [
    "type(pd_water)"
   ]
  },
  {
   "cell_type": "markdown",
   "id": "9c910851",
   "metadata": {},
   "source": [
    "<br>\n",
    "\n",
    "### Visualize Data (also check outliers)"
   ]
  },
  {
   "cell_type": "code",
   "execution_count": 9,
   "id": "c4987daf",
   "metadata": {},
   "outputs": [
    {
     "data": {
      "image/png": "[encoded data removed]",
      "text/plain": [
       "<Figure size 640x480 with 12 Axes>"
      ]
     },
     "metadata": {},
     "output_type": "display_data"
    }
   ],
   "source": [
    "import matplotlib.pyplot as plt\n",
    "\n",
    "pd_water.hist()\n",
    "plt.subplots_adjust(wspace = 0.5, hspace = 1)\n",
    "plt.show()"
   ]
  },
  {
   "cell_type": "code",
   "execution_count": 10,
   "id": "ae08238f",
   "metadata": {},
   "outputs": [
    {
     "data": {
      "text/plain": [
       "3276"
      ]
     },
     "execution_count": 10,
     "metadata": {},
     "output_type": "execute_result"
    }
   ],
   "source": [
    "len(pd_water)"
   ]
  },
  {
   "cell_type": "code",
   "execution_count": 11,
   "id": "f4490df5",
   "metadata": {},
   "outputs": [
    {
     "data": {
      "text/plain": [
       "ph                 491\n",
       "Hardness             0\n",
       "Solids               0\n",
       "Chloramines          0\n",
       "Sulfate            781\n",
       "Conductivity         0\n",
       "Organic_carbon       0\n",
       "Trihalomethanes    162\n",
       "Turbidity            0\n",
       "Potability           0\n",
       "dtype: int64"
      ]
     },
     "execution_count": 11,
     "metadata": {},
     "output_type": "execute_result"
    }
   ],
   "source": [
    "pd_water.isnull().sum()"
   ]
  },
  {
   "cell_type": "markdown",
   "id": "b85621ce",
   "metadata": {},
   "source": [
    "<br>\n",
    "\n",
    "### Basic Data Transformation"
   ]
  },
  {
   "cell_type": "code",
   "execution_count": 79,
   "id": "17f9f412",
   "metadata": {},
   "outputs": [],
   "source": [
    "from pyspark.ml.feature import Imputer\n",
    "\n",
    "imputer = Imputer()\n",
    "\n",
    "imputer.setInputCols(['ph', 'Sulfate', 'Trihalomethanes'])\n",
    "imputer.setOutputCols(['Tr_{}'.format(c) for c in ['ph', 'Sulfate', 'Trihalomethanes']])\n",
    "imputer.setStrategy('mean')\n",
    "df_water = imputer.fit(df_water).transform(df_water)"
   ]
  },
  {
   "cell_type": "code",
   "execution_count": 80,
   "id": "2b38c01d",
   "metadata": {},
   "outputs": [],
   "source": [
    "#alternative to imputing\n",
    "#df_water = df_water.dropna()"
   ]
  },
  {
   "cell_type": "code",
   "execution_count": 81,
   "id": "e3e287e2",
   "metadata": {},
   "outputs": [
    {
     "name": "stdout",
     "output_type": "stream",
     "text": [
      "+-----+----------+------------------+\n",
      "|Tr_ph|Tr_Sulfate|Tr_Trihalomethanes|\n",
      "+-----+----------+------------------+\n",
      "|    0|         0|                 0|\n",
      "+-----+----------+------------------+\n",
      "\n"
     ]
    }
   ],
   "source": [
    "from pyspark.sql.functions import isnull, when, count, col\n",
    "\n",
    "df_water.select([count(when(isnull(c), 1)).alias(c) for c in ['Tr_ph', 'Tr_Sulfate', 'Tr_Trihalomethanes']]).show()"
   ]
  },
  {
   "cell_type": "code",
   "execution_count": 82,
   "id": "f70e56dc",
   "metadata": {},
   "outputs": [
    {
     "name": "stdout",
     "output_type": "stream",
     "text": [
      "root\n",
      " |-- Hardness: double (nullable = true)\n",
      " |-- Solids: double (nullable = true)\n",
      " |-- Chloramines: double (nullable = true)\n",
      " |-- Conductivity: double (nullable = true)\n",
      " |-- Organic_carbon: double (nullable = true)\n",
      " |-- Turbidity: double (nullable = true)\n",
      " |-- Potability: integer (nullable = true)\n",
      " |-- Tr_ph: double (nullable = true)\n",
      " |-- Tr_Sulfate: double (nullable = true)\n",
      " |-- Tr_Trihalomethanes: double (nullable = true)\n",
      "\n"
     ]
    }
   ],
   "source": [
    "df_ML = df_water.drop('ph', 'Sulfate', 'Trihalomethanes')\n",
    "df_ML.printSchema()"
   ]
  },
  {
   "cell_type": "code",
   "execution_count": 83,
   "id": "4f305377",
   "metadata": {},
   "outputs": [
    {
     "name": "stdout",
     "output_type": "stream",
     "text": [
      "root\n",
      " |-- P: double (nullable = true)\n",
      " |-- H: double (nullable = true)\n",
      " |-- SO: double (nullable = true)\n",
      " |-- CH: double (nullable = true)\n",
      " |-- SU: double (nullable = true)\n",
      " |-- CO: double (nullable = true)\n",
      " |-- O: double (nullable = true)\n",
      " |-- TR: double (nullable = true)\n",
      " |-- TU: double (nullable = true)\n",
      " |-- label: integer (nullable = true)\n",
      "\n"
     ]
    }
   ],
   "source": [
    "mapping = dict(zip(df_ML.columns, ['H', 'SO', 'CH', 'CO', 'O', 'TU', 'label', 'P', 'SU', 'TR']))\n",
    "df_ML = df_ML.select([col(c).alias(mapping[c]) for c in df_ML.columns])\n",
    "df_ML = df_ML.select(['P', 'H','SO', 'CH', 'SU', 'CO', 'O', 'TR', 'TU', 'label'])\n",
    "df_ML.printSchema()"
   ]
  },
  {
   "cell_type": "markdown",
   "id": "d1be3251",
   "metadata": {},
   "source": [
    "<br>\n",
    "\n",
    "### Preprocess Data"
   ]
  },
  {
   "cell_type": "code",
   "execution_count": 84,
   "id": "6c814402",
   "metadata": {},
   "outputs": [
    {
     "data": {
      "text/plain": [
       "['P', 'H', 'SO', 'CH', 'SU', 'CO', 'O', 'TR', 'TU']"
      ]
     },
     "execution_count": 84,
     "metadata": {},
     "output_type": "execute_result"
    }
   ],
   "source": [
    "scaleColumns = df_ML.columns\n",
    "scaleColumns.remove('label')\n",
    "scaleColumns\n"
   ]
  },
  {
   "cell_type": "code",
   "execution_count": 85,
   "id": "14b012c2",
   "metadata": {},
   "outputs": [],
   "source": [
    "from pyspark.ml.feature import StandardScaler\n",
    "from pyspark.ml import Pipeline\n",
    "from pyspark.ml.feature import VectorAssembler\n",
    "\n",
    "assemblers = [VectorAssembler(inputCols=[col], outputCol=\"V_\" + col) for col in scaleColumns]\n",
    "scalers = [StandardScaler(inputCol=\"V_\" + col, outputCol=\"T_\" + col) for col in scaleColumns]\n",
    "pipeline = Pipeline(stages=assemblers + scalers)\n",
    "model = pipeline.fit(df_ML)\n",
    "T_ML = model.transform(df_ML)"
   ]
  },
  {
   "cell_type": "code",
   "execution_count": 86,
   "id": "c9f4839a",
   "metadata": {},
   "outputs": [],
   "source": [
    "from pyspark.sql.functions import udf\n",
    "from pyspark.sql.types import DoubleType\n",
    "unlist = udf(lambda x: float(list(x)[0]), DoubleType())\n",
    "\n",
    "for c in scaleColumns:\n",
    "    T_ML = T_ML.withColumn(c, unlist(T_ML['T_'+c]))"
   ]
  },
  {
   "cell_type": "code",
   "execution_count": 87,
   "id": "171d1183",
   "metadata": {},
   "outputs": [
    {
     "data": {
      "text/html": [
       "<div>\n",
       "<style scoped>\n",
       "    .dataframe tbody tr th:only-of-type {\n",
       "        vertical-align: middle;\n",
       "    }\n",
       "\n",
       "    .dataframe tbody tr th {\n",
       "        vertical-align: top;\n",
       "    }\n",
       "\n",
       "    .dataframe thead th {\n",
       "        text-align: right;\n",
       "    }\n",
       "</style>\n",
       "<table border=\"1\" class=\"dataframe\">\n",
       "  <thead>\n",
       "    <tr style=\"text-align: right;\">\n",
       "      <th></th>\n",
       "      <th>P</th>\n",
       "      <th>H</th>\n",
       "      <th>SO</th>\n",
       "      <th>CH</th>\n",
       "      <th>SU</th>\n",
       "      <th>CO</th>\n",
       "      <th>O</th>\n",
       "      <th>TR</th>\n",
       "      <th>TU</th>\n",
       "      <th>label</th>\n",
       "    </tr>\n",
       "  </thead>\n",
       "  <tbody>\n",
       "    <tr>\n",
       "      <th>0</th>\n",
       "      <td>4.817011</td>\n",
       "      <td>6.231507</td>\n",
       "      <td>2.371118</td>\n",
       "      <td>4.611384</td>\n",
       "      <td>10.196176</td>\n",
       "      <td>6.981939</td>\n",
       "      <td>3.137628</td>\n",
       "      <td>5.516273</td>\n",
       "      <td>3.797030</td>\n",
       "      <td>0</td>\n",
       "    </tr>\n",
       "    <tr>\n",
       "      <th>1</th>\n",
       "      <td>2.528021</td>\n",
       "      <td>3.936249</td>\n",
       "      <td>2.124640</td>\n",
       "      <td>4.191339</td>\n",
       "      <td>9.234966</td>\n",
       "      <td>7.335505</td>\n",
       "      <td>4.588655</td>\n",
       "      <td>3.571940</td>\n",
       "      <td>5.767245</td>\n",
       "      <td>0</td>\n",
       "    </tr>\n",
       "    <tr>\n",
       "      <th>2</th>\n",
       "      <td>5.509773</td>\n",
       "      <td>6.819887</td>\n",
       "      <td>2.270557</td>\n",
       "      <td>5.859372</td>\n",
       "      <td>9.234966</td>\n",
       "      <td>5.179227</td>\n",
       "      <td>5.099096</td>\n",
       "      <td>4.211832</td>\n",
       "      <td>3.915944</td>\n",
       "      <td>0</td>\n",
       "    </tr>\n",
       "    <tr>\n",
       "      <th>3</th>\n",
       "      <td>5.657833</td>\n",
       "      <td>6.519919</td>\n",
       "      <td>2.511061</td>\n",
       "      <td>5.090903</td>\n",
       "      <td>9.874387</td>\n",
       "      <td>4.494534</td>\n",
       "      <td>5.573042</td>\n",
       "      <td>6.362868</td>\n",
       "      <td>5.931413</td>\n",
       "      <td>0</td>\n",
       "    </tr>\n",
       "    <tr>\n",
       "      <th>4</th>\n",
       "      <td>6.185371</td>\n",
       "      <td>5.507993</td>\n",
       "      <td>2.050390</td>\n",
       "      <td>4.135344</td>\n",
       "      <td>8.580889</td>\n",
       "      <td>4.929359</td>\n",
       "      <td>3.493867</td>\n",
       "      <td>2.029057</td>\n",
       "      <td>5.221896</td>\n",
       "      <td>0</td>\n",
       "    </tr>\n",
       "    <tr>\n",
       "      <th>...</th>\n",
       "      <td>...</td>\n",
       "      <td>...</td>\n",
       "      <td>...</td>\n",
       "      <td>...</td>\n",
       "      <td>...</td>\n",
       "      <td>...</td>\n",
       "      <td>...</td>\n",
       "      <td>...</td>\n",
       "      <td>...</td>\n",
       "      <td>...</td>\n",
       "    </tr>\n",
       "    <tr>\n",
       "      <th>3271</th>\n",
       "      <td>3.175674</td>\n",
       "      <td>5.890606</td>\n",
       "      <td>5.426311</td>\n",
       "      <td>4.527009</td>\n",
       "      <td>9.959119</td>\n",
       "      <td>6.513211</td>\n",
       "      <td>4.200042</td>\n",
       "      <td>4.228801</td>\n",
       "      <td>5.684163</td>\n",
       "      <td>1</td>\n",
       "    </tr>\n",
       "    <tr>\n",
       "      <th>3272</th>\n",
       "      <td>5.312306</td>\n",
       "      <td>5.886698</td>\n",
       "      <td>1.976354</td>\n",
       "      <td>5.092186</td>\n",
       "      <td>9.234966</td>\n",
       "      <td>4.855603</td>\n",
       "      <td>6.016400</td>\n",
       "      <td>4.210323</td>\n",
       "      <td>3.585733</td>\n",
       "      <td>1</td>\n",
       "    </tr>\n",
       "    <tr>\n",
       "      <th>3273</th>\n",
       "      <td>6.408022</td>\n",
       "      <td>5.345618</td>\n",
       "      <td>3.781184</td>\n",
       "      <td>4.642981</td>\n",
       "      <td>9.234966</td>\n",
       "      <td>5.345497</td>\n",
       "      <td>3.336919</td>\n",
       "      <td>4.429038</td>\n",
       "      <td>4.227255</td>\n",
       "      <td>1</td>\n",
       "    </tr>\n",
       "    <tr>\n",
       "      <th>3274</th>\n",
       "      <td>3.487698</td>\n",
       "      <td>7.013547</td>\n",
       "      <td>1.366684</td>\n",
       "      <td>3.981692</td>\n",
       "      <td>9.234966</td>\n",
       "      <td>4.984693</td>\n",
       "      <td>3.376179</td>\n",
       "      <td>4.913684</td>\n",
       "      <td>6.033783</td>\n",
       "      <td>1</td>\n",
       "    </tr>\n",
       "    <tr>\n",
       "      <th>3275</th>\n",
       "      <td>5.357080</td>\n",
       "      <td>5.933811</td>\n",
       "      <td>1.984836</td>\n",
       "      <td>4.743464</td>\n",
       "      <td>9.234966</td>\n",
       "      <td>4.051513</td>\n",
       "      <td>4.878953</td>\n",
       "      <td>4.990427</td>\n",
       "      <td>2.958997</td>\n",
       "      <td>1</td>\n",
       "    </tr>\n",
       "  </tbody>\n",
       "</table>\n",
       "<p>3276 rows × 10 columns</p>\n",
       "</div>"
      ],
      "text/plain": [
       "             P         H        SO        CH         SU        CO         O  \\\n",
       "0     4.817011  6.231507  2.371118  4.611384  10.196176  6.981939  3.137628   \n",
       "1     2.528021  3.936249  2.124640  4.191339   9.234966  7.335505  4.588655   \n",
       "2     5.509773  6.819887  2.270557  5.859372   9.234966  5.179227  5.099096   \n",
       "3     5.657833  6.519919  2.511061  5.090903   9.874387  4.494534  5.573042   \n",
       "4     6.185371  5.507993  2.050390  4.135344   8.580889  4.929359  3.493867   \n",
       "...        ...       ...       ...       ...        ...       ...       ...   \n",
       "3271  3.175674  5.890606  5.426311  4.527009   9.959119  6.513211  4.200042   \n",
       "3272  5.312306  5.886698  1.976354  5.092186   9.234966  4.855603  6.016400   \n",
       "3273  6.408022  5.345618  3.781184  4.642981   9.234966  5.345497  3.336919   \n",
       "3274  3.487698  7.013547  1.366684  3.981692   9.234966  4.984693  3.376179   \n",
       "3275  5.357080  5.933811  1.984836  4.743464   9.234966  4.051513  4.878953   \n",
       "\n",
       "            TR        TU  label  \n",
       "0     5.516273  3.797030      0  \n",
       "1     3.571940  5.767245      0  \n",
       "2     4.211832  3.915944      0  \n",
       "3     6.362868  5.931413      0  \n",
       "4     2.029057  5.221896      0  \n",
       "...        ...       ...    ...  \n",
       "3271  4.228801  5.684163      1  \n",
       "3272  4.210323  3.585733      1  \n",
       "3273  4.429038  4.227255      1  \n",
       "3274  4.913684  6.033783      1  \n",
       "3275  4.990427  2.958997      1  \n",
       "\n",
       "[3276 rows x 10 columns]"
      ]
     },
     "execution_count": 87,
     "metadata": {},
     "output_type": "execute_result"
    }
   ],
   "source": [
    "T_ML = T_ML.drop(*[a+c for a in [\"V_\", \"T_\"] for c in scaleColumns])\n",
    "\n",
    "T_ML.toPandas()"
   ]
  },
  {
   "cell_type": "code",
   "execution_count": 88,
   "id": "7f0b56ac",
   "metadata": {},
   "outputs": [],
   "source": [
    "#Train/test split\n",
    "import numpy as np\n",
    "\n",
    "[X, L] = [np.array(T_ML.select(scaleColumns).collect()), np.array(T_ML.select('label').collect())]\n",
    "[nData, nFeature] = np.shape(X)\n",
    "\n",
    "#np.random.seed(42) # for fixed partition in each iter.\n",
    "pidx = np.random.permutation(nData)\n",
    "\n",
    "cut = int(nData*0.9)\n",
    "trainX = X[pidx[:cut]] \n",
    "trainL = np.ravel(L[pidx[:cut]])\n",
    "\n",
    "testX = X[pidx[cut+1:]]\n",
    "testL = np.ravel(L[pidx[cut+1:]])"
   ]
  },
  {
   "cell_type": "code",
   "execution_count": 89,
   "id": "91506549",
   "metadata": {},
   "outputs": [
    {
     "name": "stdout",
     "output_type": "stream",
     "text": [
      "0.6638398914518318\n",
      "0.5932721712538226\n"
     ]
    }
   ],
   "source": [
    "#Algorithm 1: Adaboost\n",
    "from sklearn.ensemble import AdaBoostClassifier\n",
    "\n",
    "adaboost = AdaBoostClassifier(n_estimators = 70)\n",
    "adaboost.fit(trainX,trainL)\n",
    "pTrainL = adaboost.predict(trainX)\n",
    "pTestL = adaboost.predict(testX)\n",
    "print(sum(trainL == pTrainL)/np.size(trainL))\n",
    "print(sum(testL == pTestL)/np.size(testL))"
   ]
  },
  {
   "cell_type": "code",
   "execution_count": 90,
   "id": "cdf525e8",
   "metadata": {},
   "outputs": [
    {
     "name": "stdout",
     "output_type": "stream",
     "text": [
      "0.7316824966078698\n",
      "0.6788990825688074\n"
     ]
    }
   ],
   "source": [
    "#Algorithm 2: SVM\n",
    "from sklearn.svm import SVC\n",
    "from sklearn.pipeline import make_pipeline\n",
    "\n",
    "SVM = SVC(kernel = 'rbf', gamma='auto')\n",
    "SVM.fit(trainX, trainL)\n",
    "pTrainL = SVM.predict(trainX)\n",
    "pTestL = SVM.predict(testX)\n",
    "print(sum(trainL == pTrainL)/np.size(trainL))\n",
    "print(sum(testL == pTestL)/np.size(testL))"
   ]
  },
  {
   "cell_type": "code",
   "execution_count": 91,
   "id": "141731d9",
   "metadata": {},
   "outputs": [
    {
     "name": "stdout",
     "output_type": "stream",
     "text": [
      "0.6818181818181818\n",
      "0.6483180428134556\n"
     ]
    }
   ],
   "source": [
    "#Algorithm 3: Simple MLP classifier\n",
    "from sklearn.neural_network import MLPClassifier\n",
    "NN = MLPClassifier(hidden_layer_sizes = (60), solver = 'adam', max_iter = 2000)\n",
    "NN.fit(trainX, trainL)\n",
    "pTrainL = NN.predict(trainX)\n",
    "pTestL = NN.predict(testX)\n",
    "print(sum(trainL == pTrainL)/np.size(trainL))\n",
    "print(sum(testL == pTestL)/np.size(testL))"
   ]
  },
  {
   "cell_type": "code",
   "execution_count": null,
   "id": "1feb84dd",
   "metadata": {},
   "outputs": [],
   "source": []
  }
 ],
 "metadata": {
  "kernelspec": {
   "display_name": "Python 3",
   "language": "python",
   "name": "python3"
  },
  "language_info": {
   "codemirror_mode": {
    "name": "ipython",
    "version": 3
   },
   "file_extension": ".py",
   "mimetype": "text/x-python",
   "name": "python",
   "nbconvert_exporter": "python",
   "pygments_lexer": "ipython3",
   "version": "3.9.6"
  }
 },
 "nbformat": 4,
 "nbformat_minor": 5
}
